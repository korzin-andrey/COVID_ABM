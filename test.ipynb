{
 "cells": [
  {
   "cell_type": "code",
   "execution_count": 2,
   "metadata": {},
   "outputs": [],
   "source": [
    "import pandas as pd\n",
    "import numpy as np\n",
    "import matplotlib.pyplot as plt"
   ]
  },
  {
   "cell_type": "code",
   "execution_count": 3,
   "metadata": {},
   "outputs": [
    {
     "data": {
      "text/html": [
       "<div>\n",
       "<style scoped>\n",
       "    .dataframe tbody tr th:only-of-type {\n",
       "        vertical-align: middle;\n",
       "    }\n",
       "\n",
       "    .dataframe tbody tr th {\n",
       "        vertical-align: top;\n",
       "    }\n",
       "\n",
       "    .dataframe thead th {\n",
       "        text-align: right;\n",
       "    }\n",
       "</style>\n",
       "<table border=\"1\" class=\"dataframe\">\n",
       "  <thead>\n",
       "    <tr style=\"text-align: right;\">\n",
       "      <th></th>\n",
       "      <th>sp_id</th>\n",
       "      <th>sp_hh_id</th>\n",
       "      <th>age</th>\n",
       "      <th>sex</th>\n",
       "      <th>work_id</th>\n",
       "    </tr>\n",
       "  </thead>\n",
       "  <tbody>\n",
       "    <tr>\n",
       "      <th>0</th>\n",
       "      <td>599955</td>\n",
       "      <td>1</td>\n",
       "      <td>8</td>\n",
       "      <td>F</td>\n",
       "      <td>48</td>\n",
       "    </tr>\n",
       "    <tr>\n",
       "      <th>1</th>\n",
       "      <td>293648</td>\n",
       "      <td>1</td>\n",
       "      <td>-5</td>\n",
       "      <td>G</td>\n",
       "      <td>1</td>\n",
       "    </tr>\n",
       "    <tr>\n",
       "      <th>2</th>\n",
       "      <td>556704</td>\n",
       "      <td>1</td>\n",
       "      <td>-5</td>\n",
       "      <td>G</td>\n",
       "      <td>X</td>\n",
       "    </tr>\n",
       "    <tr>\n",
       "      <th>3</th>\n",
       "      <td>293647</td>\n",
       "      <td>2</td>\n",
       "      <td>-5</td>\n",
       "      <td>G</td>\n",
       "      <td>1</td>\n",
       "    </tr>\n",
       "    <tr>\n",
       "      <th>4</th>\n",
       "      <td>1094293</td>\n",
       "      <td>2</td>\n",
       "      <td>69</td>\n",
       "      <td>F</td>\n",
       "      <td>X</td>\n",
       "    </tr>\n",
       "    <tr>\n",
       "      <th>...</th>\n",
       "      <td>...</td>\n",
       "      <td>...</td>\n",
       "      <td>...</td>\n",
       "      <td>...</td>\n",
       "      <td>...</td>\n",
       "    </tr>\n",
       "    <tr>\n",
       "      <th>1189520</th>\n",
       "      <td>462547</td>\n",
       "      <td>471999</td>\n",
       "      <td>61</td>\n",
       "      <td>M</td>\n",
       "      <td>X</td>\n",
       "    </tr>\n",
       "    <tr>\n",
       "      <th>1189521</th>\n",
       "      <td>74968</td>\n",
       "      <td>472001</td>\n",
       "      <td>9</td>\n",
       "      <td>M</td>\n",
       "      <td>71</td>\n",
       "    </tr>\n",
       "    <tr>\n",
       "      <th>1189522</th>\n",
       "      <td>551174</td>\n",
       "      <td>472001</td>\n",
       "      <td>0</td>\n",
       "      <td>F</td>\n",
       "      <td>X</td>\n",
       "    </tr>\n",
       "    <tr>\n",
       "      <th>1189523</th>\n",
       "      <td>888930</td>\n",
       "      <td>472002</td>\n",
       "      <td>44</td>\n",
       "      <td>F</td>\n",
       "      <td>74931</td>\n",
       "    </tr>\n",
       "    <tr>\n",
       "      <th>1189524</th>\n",
       "      <td>963144</td>\n",
       "      <td>472002</td>\n",
       "      <td>53</td>\n",
       "      <td>F</td>\n",
       "      <td>74931</td>\n",
       "    </tr>\n",
       "  </tbody>\n",
       "</table>\n",
       "<p>1189525 rows × 5 columns</p>\n",
       "</div>"
      ],
      "text/plain": [
       "           sp_id  sp_hh_id  age sex work_id\n",
       "0         599955         1    8   F      48\n",
       "1         293648         1   -5   G       1\n",
       "2         556704         1   -5   G       X\n",
       "3         293647         2   -5   G       1\n",
       "4        1094293         2   69   F       X\n",
       "...          ...       ...  ...  ..     ...\n",
       "1189520   462547    471999   61   M       X\n",
       "1189521    74968    472001    9   M      71\n",
       "1189522   551174    472001    0   F       X\n",
       "1189523   888930    472002   44   F   74931\n",
       "1189524   963144    472002   53   F   74931\n",
       "\n",
       "[1189525 rows x 5 columns]"
      ]
     },
     "execution_count": 3,
     "metadata": {},
     "output_type": "execute_result"
    }
   ],
   "source": [
    "people = pd.read_csv('data/chelyabinsk/people.txt', sep='\\t', index_col=0)\n",
    "people.loc[[1,2,3], ['age', 'sex']] = [[-5, 'G'], [-5, 'G'], [-5, 'G']] \n",
    "people"
   ]
  },
  {
   "cell_type": "code",
   "execution_count": 4,
   "metadata": {},
   "outputs": [
    {
     "data": {
      "text/plain": [
       "[<matplotlib.lines.Line2D at 0x1bfc1ee0940>]"
      ]
     },
     "execution_count": 4,
     "metadata": {},
     "output_type": "execute_result"
    },
    {
     "data": {
      "image/png": "[encoded data removed]",
      "text/plain": [
       "<Figure size 640x480 with 1 Axes>"
      ]
     },
     "metadata": {},
     "output_type": "display_data"
    }
   ],
   "source": [
    "incidence_df = pd.read_csv('results/chelyabinsk/incidence_1.csv', index_col=0)\n",
    "plt.plot(incidence_df)"
   ]
  }
 ],
 "metadata": {
  "kernelspec": {
   "display_name": ".env",
   "language": "python",
   "name": "python3"
  },
  "language_info": {
   "codemirror_mode": {
    "name": "ipython",
    "version": 3
   },
   "file_extension": ".py",
   "mimetype": "text/x-python",
   "name": "python",
   "nbconvert_exporter": "python",
   "pygments_lexer": "ipython3",
   "version": "3.8.10"
  }
 },
 "nbformat": 4,
 "nbformat_minor": 2
}
